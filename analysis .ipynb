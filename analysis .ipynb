{
 "cells": [
  {
   "cell_type": "code",
   "execution_count": 1,
   "id": "2384055b",
   "metadata": {},
   "outputs": [],
   "source": [
    "# Cell 1: imports & plotting settings\n",
    "\n",
    "# Core data handling\n",
    "import pandas as pd\n",
    "import numpy as np\n",
    "\n",
    "# Visualizationa\n",
    "import matplotlib.pyplot as plt\n",
    "\n",
    "# SQL (optional, we’ll use later)\n",
    "import sqlite3\n",
    "\n",
    "# Statistics & hypothesis testing\n",
    "from scipy.stats import norm, chi2_contingency, ttest_ind\n",
    "import statsmodels.formula.api as smf\n",
    "\n",
    "# General settings\n",
    "pd.set_option('display.max_columns', None)   # show all columns in output\n",
    "plt.rcParams['figure.figsize'] = (7, 4)      # default figure size\n"
   ]
  },
  {
   "cell_type": "code",
   "execution_count": 2,
   "id": "79ae4711",
   "metadata": {},
   "outputs": [
    {
     "name": "stdout",
     "output_type": "stream",
     "text": [
      "Dataset shape (rows, columns): (1000, 17)\n"
     ]
    },
    {
     "data": {
      "text/html": [
       "<div>\n",
       "<style scoped>\n",
       "    .dataframe tbody tr th:only-of-type {\n",
       "        vertical-align: middle;\n",
       "    }\n",
       "\n",
       "    .dataframe tbody tr th {\n",
       "        vertical-align: top;\n",
       "    }\n",
       "\n",
       "    .dataframe thead th {\n",
       "        text-align: right;\n",
       "    }\n",
       "</style>\n",
       "<table border=\"1\" class=\"dataframe\">\n",
       "  <thead>\n",
       "    <tr style=\"text-align: right;\">\n",
       "      <th></th>\n",
       "      <th>date_of_campaign</th>\n",
       "      <th>facebook_ad_campaign</th>\n",
       "      <th>facebook_ad_views</th>\n",
       "      <th>facebook_ad_clicks</th>\n",
       "      <th>facebook_ad_conversions</th>\n",
       "      <th>facebook_cost_per_ad</th>\n",
       "      <th>facebook_ctr</th>\n",
       "      <th>facebook_conversion_rate</th>\n",
       "      <th>facebook_cost_per_click</th>\n",
       "      <th>adword_ad_campaign</th>\n",
       "      <th>adword_ad_views</th>\n",
       "      <th>adword_ad_clicks</th>\n",
       "      <th>adword_ad_conversions</th>\n",
       "      <th>adword_cost_per_ad</th>\n",
       "      <th>adword_ctr</th>\n",
       "      <th>adword_conversion_rate</th>\n",
       "      <th>adword_cost_per_click</th>\n",
       "    </tr>\n",
       "  </thead>\n",
       "  <tbody>\n",
       "    <tr>\n",
       "      <th>0</th>\n",
       "      <td>2021-12-22</td>\n",
       "      <td>FACEBOOK AD</td>\n",
       "      <td>3172</td>\n",
       "      <td>62</td>\n",
       "      <td>14</td>\n",
       "      <td>141</td>\n",
       "      <td>1.95</td>\n",
       "      <td>22.58</td>\n",
       "      <td>2.27</td>\n",
       "      <td>ADWORD AD</td>\n",
       "      <td>5754</td>\n",
       "      <td>64</td>\n",
       "      <td>9</td>\n",
       "      <td>177</td>\n",
       "      <td>1.11</td>\n",
       "      <td>14.06</td>\n",
       "      <td>2.77</td>\n",
       "    </tr>\n",
       "    <tr>\n",
       "      <th>1</th>\n",
       "      <td>2021-12-24</td>\n",
       "      <td>FACEBOOK AD</td>\n",
       "      <td>3211</td>\n",
       "      <td>38</td>\n",
       "      <td>9</td>\n",
       "      <td>186</td>\n",
       "      <td>1.18</td>\n",
       "      <td>23.68</td>\n",
       "      <td>4.89</td>\n",
       "      <td>ADWORD AD</td>\n",
       "      <td>4954</td>\n",
       "      <td>73</td>\n",
       "      <td>6</td>\n",
       "      <td>54</td>\n",
       "      <td>1.47</td>\n",
       "      <td>8.22</td>\n",
       "      <td>0.74</td>\n",
       "    </tr>\n",
       "    <tr>\n",
       "      <th>2</th>\n",
       "      <td>2021-12-25</td>\n",
       "      <td>FACEBOOK AD</td>\n",
       "      <td>1936</td>\n",
       "      <td>53</td>\n",
       "      <td>15</td>\n",
       "      <td>66</td>\n",
       "      <td>2.74</td>\n",
       "      <td>28.30</td>\n",
       "      <td>1.25</td>\n",
       "      <td>ADWORD AD</td>\n",
       "      <td>4702</td>\n",
       "      <td>38</td>\n",
       "      <td>9</td>\n",
       "      <td>187</td>\n",
       "      <td>0.81</td>\n",
       "      <td>23.68</td>\n",
       "      <td>4.92</td>\n",
       "    </tr>\n",
       "    <tr>\n",
       "      <th>3</th>\n",
       "      <td>2021-12-25</td>\n",
       "      <td>FACEBOOK AD</td>\n",
       "      <td>1194</td>\n",
       "      <td>45</td>\n",
       "      <td>9</td>\n",
       "      <td>71</td>\n",
       "      <td>3.77</td>\n",
       "      <td>20.00</td>\n",
       "      <td>1.58</td>\n",
       "      <td>ADWORD AD</td>\n",
       "      <td>3718</td>\n",
       "      <td>58</td>\n",
       "      <td>3</td>\n",
       "      <td>161</td>\n",
       "      <td>1.56</td>\n",
       "      <td>5.17</td>\n",
       "      <td>2.78</td>\n",
       "    </tr>\n",
       "    <tr>\n",
       "      <th>4</th>\n",
       "      <td>2021-12-26</td>\n",
       "      <td>FACEBOOK AD</td>\n",
       "      <td>2479</td>\n",
       "      <td>44</td>\n",
       "      <td>12</td>\n",
       "      <td>174</td>\n",
       "      <td>1.77</td>\n",
       "      <td>27.27</td>\n",
       "      <td>3.95</td>\n",
       "      <td>ADWORD AD</td>\n",
       "      <td>5562</td>\n",
       "      <td>63</td>\n",
       "      <td>4</td>\n",
       "      <td>162</td>\n",
       "      <td>1.13</td>\n",
       "      <td>6.35</td>\n",
       "      <td>2.57</td>\n",
       "    </tr>\n",
       "  </tbody>\n",
       "</table>\n",
       "</div>"
      ],
      "text/plain": [
       "  date_of_campaign facebook_ad_campaign  facebook_ad_views  \\\n",
       "0       2021-12-22          FACEBOOK AD               3172   \n",
       "1       2021-12-24          FACEBOOK AD               3211   \n",
       "2       2021-12-25          FACEBOOK AD               1936   \n",
       "3       2021-12-25          FACEBOOK AD               1194   \n",
       "4       2021-12-26          FACEBOOK AD               2479   \n",
       "\n",
       "   facebook_ad_clicks  facebook_ad_conversions  facebook_cost_per_ad  \\\n",
       "0                  62                       14                   141   \n",
       "1                  38                        9                   186   \n",
       "2                  53                       15                    66   \n",
       "3                  45                        9                    71   \n",
       "4                  44                       12                   174   \n",
       "\n",
       "   facebook_ctr  facebook_conversion_rate  facebook_cost_per_click  \\\n",
       "0          1.95                     22.58                     2.27   \n",
       "1          1.18                     23.68                     4.89   \n",
       "2          2.74                     28.30                     1.25   \n",
       "3          3.77                     20.00                     1.58   \n",
       "4          1.77                     27.27                     3.95   \n",
       "\n",
       "  adword_ad_campaign  adword_ad_views  adword_ad_clicks  \\\n",
       "0          ADWORD AD             5754                64   \n",
       "1          ADWORD AD             4954                73   \n",
       "2          ADWORD AD             4702                38   \n",
       "3          ADWORD AD             3718                58   \n",
       "4          ADWORD AD             5562                63   \n",
       "\n",
       "   adword_ad_conversions  adword_cost_per_ad  adword_ctr  \\\n",
       "0                      9                 177        1.11   \n",
       "1                      6                  54        1.47   \n",
       "2                      9                 187        0.81   \n",
       "3                      3                 161        1.56   \n",
       "4                      4                 162        1.13   \n",
       "\n",
       "   adword_conversion_rate  adword_cost_per_click  \n",
       "0                   14.06                   2.77  \n",
       "1                    8.22                   0.74  \n",
       "2                   23.68                   4.92  \n",
       "3                    5.17                   2.78  \n",
       "4                    6.35                   2.57  "
      ]
     },
     "execution_count": 2,
     "metadata": {},
     "output_type": "execute_result"
    }
   ],
   "source": [
    "# Cell 2: load dataset with manual path\n",
    "\n",
    "# if the dataset is in the same folder as this notebook:\n",
    "df = pd.read_csv(\"A_B_testing_dataset.csv\")\n",
    "\n",
    "print(\"Dataset shape (rows, columns):\", df.shape)\n",
    "df.head()\n"
   ]
  },
  {
   "cell_type": "code",
   "execution_count": 3,
   "id": "8a5364fe",
   "metadata": {},
   "outputs": [
    {
     "name": "stdout",
     "output_type": "stream",
     "text": [
      "Columns and Data Types:\n",
      "date_of_campaign             object\n",
      "facebook_ad_campaign         object\n",
      "facebook_ad_views             int64\n",
      "facebook_ad_clicks            int64\n",
      "facebook_ad_conversions       int64\n",
      "facebook_cost_per_ad          int64\n",
      "facebook_ctr                float64\n",
      "facebook_conversion_rate    float64\n",
      "facebook_cost_per_click     float64\n",
      "adword_ad_campaign           object\n",
      "adword_ad_views               int64\n",
      "adword_ad_clicks              int64\n",
      "adword_ad_conversions         int64\n",
      "adword_cost_per_ad            int64\n",
      "adword_ctr                  float64\n",
      "adword_conversion_rate      float64\n",
      "adword_cost_per_click       float64\n",
      "dtype: object\n",
      "\n",
      "Missing Values per Column:\n",
      "date_of_campaign            0\n",
      "facebook_ad_campaign        0\n",
      "facebook_ad_views           0\n",
      "facebook_ad_clicks          0\n",
      "facebook_ad_conversions     0\n",
      "facebook_cost_per_ad        0\n",
      "facebook_ctr                0\n",
      "facebook_conversion_rate    0\n",
      "facebook_cost_per_click     0\n",
      "adword_ad_campaign          0\n",
      "adword_ad_views             0\n",
      "adword_ad_clicks            0\n",
      "adword_ad_conversions       0\n",
      "adword_cost_per_ad          0\n",
      "adword_ctr                  0\n",
      "adword_conversion_rate      0\n",
      "adword_cost_per_click       0\n",
      "dtype: int64\n",
      "\n",
      "Summary statistics (numeric columns):\n",
      "       facebook_ad_views  facebook_ad_clicks  facebook_ad_conversions  \\\n",
      "count        1000.000000         1000.000000              1000.000000   \n",
      "mean         2152.031000           44.196000                11.975000   \n",
      "std           661.982166           16.833328                 4.298471   \n",
      "min          1050.000000           15.000000                 5.000000   \n",
      "25%          1600.250000           30.000000                 8.000000   \n",
      "50%          2123.500000           44.500000                12.000000   \n",
      "75%          2706.250000           58.000000                16.000000   \n",
      "max          3320.000000           73.000000                19.000000   \n",
      "\n",
      "       facebook_cost_per_ad  facebook_ctr  facebook_conversion_rate  \\\n",
      "count           1000.000000    1000.00000               1000.000000   \n",
      "mean             156.610000       2.28316                 32.696080   \n",
      "std               54.918904       1.20670                 20.570796   \n",
      "min               60.000000       0.49000                  6.850000   \n",
      "25%              110.000000       1.36750                 18.052500   \n",
      "50%              156.000000       2.07000                 27.120000   \n",
      "75%              205.000000       2.92250                 41.880000   \n",
      "max              250.000000       6.86000                118.750000   \n",
      "\n",
      "       facebook_cost_per_click  adword_ad_views  adword_ad_clicks  \\\n",
      "count              1000.000000      1000.000000       1000.000000   \n",
      "mean                  4.310500      4771.438000         60.128000   \n",
      "std                   2.751582       598.647684         17.047822   \n",
      "min                   0.960000      3715.000000         31.000000   \n",
      "25%                   2.337500      4258.250000         45.000000   \n",
      "50%                   3.600000      4808.500000         60.000000   \n",
      "75%                   5.610000      5300.750000         75.000000   \n",
      "max                  16.530000      5754.000000         89.000000   \n",
      "\n",
      "       adword_ad_conversions  adword_cost_per_ad   adword_ctr  \\\n",
      "count            1000.000000         1000.000000  1000.000000   \n",
      "mean                5.933000          124.741000     1.280950   \n",
      "std                 2.011606           43.809053     0.402492   \n",
      "min                 3.000000           50.000000     0.540000   \n",
      "25%                 4.000000           86.000000     0.940000   \n",
      "50%                 6.000000          124.000000     1.260000   \n",
      "75%                 8.000000          163.000000     1.570000   \n",
      "max                 9.000000          200.000000     2.370000   \n",
      "\n",
      "       adword_conversion_rate  adword_cost_per_click  \n",
      "count             1000.000000            1000.000000  \n",
      "mean                10.807510               2.265540  \n",
      "std                  5.205133               1.101846  \n",
      "min                  3.370000               0.580000  \n",
      "25%                  6.970000               1.470000  \n",
      "50%                  9.720000               2.030000  \n",
      "75%                 13.485000               2.802500  \n",
      "max                 29.030000               6.190000  \n",
      "\n",
      "Unique values in each column:\n",
      "date_of_campaign -> 658 unique values\n",
      "----------------------------------------\n",
      "facebook_ad_campaign -> 1 unique values\n",
      "['FACEBOOK AD']\n",
      "----------------------------------------\n",
      "facebook_ad_views -> 798 unique values\n",
      "----------------------------------------\n",
      "facebook_ad_clicks -> 59 unique values\n",
      "----------------------------------------\n",
      "facebook_ad_conversions -> 15 unique values\n",
      "----------------------------------------\n",
      "facebook_cost_per_ad -> 190 unique values\n",
      "----------------------------------------\n",
      "facebook_ctr -> 390 unique values\n",
      "----------------------------------------\n",
      "facebook_conversion_rate -> 477 unique values\n",
      "----------------------------------------\n",
      "facebook_cost_per_click -> 544 unique values\n",
      "----------------------------------------\n",
      "adword_ad_campaign -> 1 unique values\n",
      "['ADWORD AD']\n",
      "----------------------------------------\n",
      "adword_ad_views -> 796 unique values\n",
      "----------------------------------------\n",
      "adword_ad_clicks -> 59 unique values\n",
      "----------------------------------------\n",
      "adword_ad_conversions -> 7 unique values\n",
      "[9 6 3 4 8 5 7]\n",
      "----------------------------------------\n",
      "adword_cost_per_ad -> 150 unique values\n",
      "----------------------------------------\n",
      "adword_ctr -> 172 unique values\n",
      "----------------------------------------\n",
      "adword_conversion_rate -> 298 unique values\n",
      "----------------------------------------\n",
      "adword_cost_per_click -> 354 unique values\n",
      "----------------------------------------\n"
     ]
    }
   ],
   "source": [
    "# Cell 3: Inspect dataset structure\n",
    "\n",
    "# 1. See column names & data types\n",
    "print(\"Columns and Data Types:\")\n",
    "print(df.dtypes)\n",
    "\n",
    "# 2. Check for missing values\n",
    "print(\"\\nMissing Values per Column:\")\n",
    "print(df.isnull().sum())\n",
    "\n",
    "# 3. Summary statistics for numeric columns\n",
    "print(\"\\nSummary statistics (numeric columns):\")\n",
    "print(df.describe())\n",
    "\n",
    "# 4. Look at unique values (for categorical columns)\n",
    "print(\"\\nUnique values in each column:\")\n",
    "for col in df.columns:\n",
    "    unique_vals = df[col].unique()\n",
    "    print(f\"{col} -> {len(unique_vals)} unique values\")\n",
    "    if len(unique_vals) < 10:  # print small sets fully\n",
    "        print(unique_vals)\n",
    "    print(\"-\" * 40)\n"
   ]
  },
  {
   "cell_type": "code",
   "execution_count": 4,
   "id": "6775495e",
   "metadata": {},
   "outputs": [
    {
     "name": "stdout",
     "output_type": "stream",
     "text": [
      "Reshaped dataset shape: (2000, 9)\n"
     ]
    },
    {
     "data": {
      "text/html": [
       "<div>\n",
       "<style scoped>\n",
       "    .dataframe tbody tr th:only-of-type {\n",
       "        vertical-align: middle;\n",
       "    }\n",
       "\n",
       "    .dataframe tbody tr th {\n",
       "        vertical-align: top;\n",
       "    }\n",
       "\n",
       "    .dataframe thead th {\n",
       "        text-align: right;\n",
       "    }\n",
       "</style>\n",
       "<table border=\"1\" class=\"dataframe\">\n",
       "  <thead>\n",
       "    <tr style=\"text-align: right;\">\n",
       "      <th></th>\n",
       "      <th>date</th>\n",
       "      <th>views</th>\n",
       "      <th>clicks</th>\n",
       "      <th>conversions</th>\n",
       "      <th>cost_per_ad</th>\n",
       "      <th>ctr</th>\n",
       "      <th>conversion_rate</th>\n",
       "      <th>cost_per_click</th>\n",
       "      <th>platform</th>\n",
       "    </tr>\n",
       "  </thead>\n",
       "  <tbody>\n",
       "    <tr>\n",
       "      <th>0</th>\n",
       "      <td>2021-12-22</td>\n",
       "      <td>3172</td>\n",
       "      <td>62</td>\n",
       "      <td>14</td>\n",
       "      <td>141</td>\n",
       "      <td>1.95</td>\n",
       "      <td>22.58</td>\n",
       "      <td>2.27</td>\n",
       "      <td>Facebook</td>\n",
       "    </tr>\n",
       "    <tr>\n",
       "      <th>1</th>\n",
       "      <td>2021-12-24</td>\n",
       "      <td>3211</td>\n",
       "      <td>38</td>\n",
       "      <td>9</td>\n",
       "      <td>186</td>\n",
       "      <td>1.18</td>\n",
       "      <td>23.68</td>\n",
       "      <td>4.89</td>\n",
       "      <td>Facebook</td>\n",
       "    </tr>\n",
       "    <tr>\n",
       "      <th>2</th>\n",
       "      <td>2021-12-25</td>\n",
       "      <td>1936</td>\n",
       "      <td>53</td>\n",
       "      <td>15</td>\n",
       "      <td>66</td>\n",
       "      <td>2.74</td>\n",
       "      <td>28.30</td>\n",
       "      <td>1.25</td>\n",
       "      <td>Facebook</td>\n",
       "    </tr>\n",
       "    <tr>\n",
       "      <th>3</th>\n",
       "      <td>2021-12-25</td>\n",
       "      <td>1194</td>\n",
       "      <td>45</td>\n",
       "      <td>9</td>\n",
       "      <td>71</td>\n",
       "      <td>3.77</td>\n",
       "      <td>20.00</td>\n",
       "      <td>1.58</td>\n",
       "      <td>Facebook</td>\n",
       "    </tr>\n",
       "    <tr>\n",
       "      <th>4</th>\n",
       "      <td>2021-12-26</td>\n",
       "      <td>2479</td>\n",
       "      <td>44</td>\n",
       "      <td>12</td>\n",
       "      <td>174</td>\n",
       "      <td>1.77</td>\n",
       "      <td>27.27</td>\n",
       "      <td>3.95</td>\n",
       "      <td>Facebook</td>\n",
       "    </tr>\n",
       "  </tbody>\n",
       "</table>\n",
       "</div>"
      ],
      "text/plain": [
       "         date  views  clicks  conversions  cost_per_ad   ctr  conversion_rate  \\\n",
       "0  2021-12-22   3172      62           14          141  1.95            22.58   \n",
       "1  2021-12-24   3211      38            9          186  1.18            23.68   \n",
       "2  2021-12-25   1936      53           15           66  2.74            28.30   \n",
       "3  2021-12-25   1194      45            9           71  3.77            20.00   \n",
       "4  2021-12-26   2479      44           12          174  1.77            27.27   \n",
       "\n",
       "   cost_per_click  platform  \n",
       "0            2.27  Facebook  \n",
       "1            4.89  Facebook  \n",
       "2            1.25  Facebook  \n",
       "3            1.58  Facebook  \n",
       "4            3.95  Facebook  "
      ]
     },
     "execution_count": 4,
     "metadata": {},
     "output_type": "execute_result"
    }
   ],
   "source": [
    "# Step 4: reshape dataset into long format\n",
    "\n",
    "# Facebook data\n",
    "facebook = df[[\n",
    "    \"date_of_campaign\", \"facebook_ad_views\", \"facebook_ad_clicks\",\n",
    "    \"facebook_ad_conversions\", \"facebook_cost_per_ad\",\n",
    "    \"facebook_ctr\", \"facebook_conversion_rate\", \"facebook_cost_per_click\"\n",
    "]].copy()\n",
    "facebook[\"platform\"] = \"Facebook\"\n",
    "\n",
    "facebook.columns = [\n",
    "    \"date\", \"views\", \"clicks\", \"conversions\", \"cost_per_ad\",\n",
    "    \"ctr\", \"conversion_rate\", \"cost_per_click\", \"platform\"\n",
    "]\n",
    "\n",
    "# AdWords data\n",
    "adwords = df[[\n",
    "    \"date_of_campaign\", \"adword_ad_views\", \"adword_ad_clicks\",\n",
    "    \"adword_ad_conversions\", \"adword_cost_per_ad\",\n",
    "    \"adword_ctr\", \"adword_conversion_rate\", \"adword_cost_per_click\"\n",
    "]].copy()\n",
    "adwords[\"platform\"] = \"AdWords\"\n",
    "\n",
    "adwords.columns = facebook.columns\n",
    "\n",
    "# Combine both\n",
    "df_long = pd.concat([facebook, adwords], ignore_index=True)\n",
    "\n",
    "print(\"Reshaped dataset shape:\", df_long.shape)\n",
    "df_long.head()\n"
   ]
  },
  {
   "cell_type": "code",
   "execution_count": 5,
   "id": "e61a60cb",
   "metadata": {},
   "outputs": [
    {
     "name": "stdout",
     "output_type": "stream",
     "text": [
      "Number of campaign-days per platform:\n",
      "Facebook    1000\n",
      "AdWords     1000\n",
      "Name: platform, dtype: int64\n",
      "\n",
      "Average metrics per platform:\n",
      "             views  clicks  conversions  cost_per_ad      ctr  \\\n",
      "platform                                                        \n",
      "AdWords   4771.438  60.128        5.933      124.741  1.28095   \n",
      "Facebook  2152.031  44.196       11.975      156.610  2.28316   \n",
      "\n",
      "          conversion_rate  cost_per_click  \n",
      "platform                                   \n",
      "AdWords          10.80751         2.26554  \n",
      "Facebook         32.69608         4.31050  \n"
     ]
    }
   ],
   "source": [
    "# Step 5a: overall campaign counts and average metrics\n",
    "print(\"Number of campaign-days per platform:\")\n",
    "print(df_long[\"platform\"].value_counts())\n",
    "\n",
    "print(\"\\nAverage metrics per platform:\")\n",
    "print(\n",
    "    df_long.groupby(\"platform\")[[\"views\",\"clicks\",\"conversions\",\n",
    "                                  \"cost_per_ad\",\"ctr\",\n",
    "                                  \"conversion_rate\",\"cost_per_click\"]].mean()\n",
    ")\n"
   ]
  },
  {
   "cell_type": "code",
   "execution_count": 6,
   "id": "88899db0",
   "metadata": {},
   "outputs": [
    {
     "name": "stdout",
     "output_type": "stream",
     "text": [
      "Average Conversion Rate by Platform:\n",
      "platform\n",
      "AdWords     10.80751\n",
      "Facebook    32.69608\n",
      "Name: conversion_rate, dtype: float64\n"
     ]
    }
   ],
   "source": [
    "# Step 5b: Compare average conversion rates\n",
    "avg_conv_rate = df_long.groupby(\"platform\")[\"conversion_rate\"].mean()\n",
    "print(\"Average Conversion Rate by Platform:\")\n",
    "print(avg_conv_rate)\n"
   ]
  },
  {
   "cell_type": "code",
   "execution_count": 7,
   "id": "ffe6611a",
   "metadata": {},
   "outputs": [
    {
     "data": {
      "image/png": "[encoded data removed]",
      "text/plain": [
       "<Figure size 504x288 with 1 Axes>"
      ]
     },
     "metadata": {
      "needs_background": "light"
     },
     "output_type": "display_data"
    }
   ],
   "source": [
    "# Step 5c: visualize conversion rate\n",
    "df_long.groupby(\"platform\")[\"conversion_rate\"].mean().plot(\n",
    "    kind=\"bar\", color=[\"blue\",\"green\"]\n",
    ")\n",
    "plt.title(\"Average Conversion Rate: Facebook vs AdWords\")\n",
    "plt.ylabel(\"Conversion Rate (%)\")\n",
    "plt.show()\n"
   ]
  },
  {
   "cell_type": "code",
   "execution_count": 8,
   "id": "7ad01187",
   "metadata": {},
   "outputs": [
    {
     "data": {
      "text/html": [
       "<div>\n",
       "<style scoped>\n",
       "    .dataframe tbody tr th:only-of-type {\n",
       "        vertical-align: middle;\n",
       "    }\n",
       "\n",
       "    .dataframe tbody tr th {\n",
       "        vertical-align: top;\n",
       "    }\n",
       "\n",
       "    .dataframe thead th {\n",
       "        text-align: right;\n",
       "    }\n",
       "</style>\n",
       "<table border=\"1\" class=\"dataframe\">\n",
       "  <thead>\n",
       "    <tr style=\"text-align: right;\">\n",
       "      <th></th>\n",
       "      <th>platform</th>\n",
       "      <th>views_sum</th>\n",
       "      <th>views_mean</th>\n",
       "      <th>clicks_sum</th>\n",
       "      <th>clicks_mean</th>\n",
       "      <th>conversions_sum</th>\n",
       "      <th>conversions_mean</th>\n",
       "      <th>cost_per_ad_mean</th>\n",
       "      <th>ctr_mean</th>\n",
       "      <th>conversion_rate_mean</th>\n",
       "      <th>cost_per_click_mean</th>\n",
       "    </tr>\n",
       "  </thead>\n",
       "  <tbody>\n",
       "    <tr>\n",
       "      <th>0</th>\n",
       "      <td>AdWords</td>\n",
       "      <td>4771438</td>\n",
       "      <td>4771.44</td>\n",
       "      <td>60128</td>\n",
       "      <td>60.13</td>\n",
       "      <td>5933</td>\n",
       "      <td>5.93</td>\n",
       "      <td>124.74</td>\n",
       "      <td>1.28</td>\n",
       "      <td>10.81</td>\n",
       "      <td>2.27</td>\n",
       "    </tr>\n",
       "    <tr>\n",
       "      <th>1</th>\n",
       "      <td>Facebook</td>\n",
       "      <td>2152031</td>\n",
       "      <td>2152.03</td>\n",
       "      <td>44196</td>\n",
       "      <td>44.20</td>\n",
       "      <td>11975</td>\n",
       "      <td>11.98</td>\n",
       "      <td>156.61</td>\n",
       "      <td>2.28</td>\n",
       "      <td>32.70</td>\n",
       "      <td>4.31</td>\n",
       "    </tr>\n",
       "  </tbody>\n",
       "</table>\n",
       "</div>"
      ],
      "text/plain": [
       "   platform  views_sum  views_mean  clicks_sum  clicks_mean  conversions_sum  \\\n",
       "0   AdWords    4771438     4771.44       60128        60.13             5933   \n",
       "1  Facebook    2152031     2152.03       44196        44.20            11975   \n",
       "\n",
       "   conversions_mean  cost_per_ad_mean  ctr_mean  conversion_rate_mean  \\\n",
       "0              5.93            124.74      1.28                 10.81   \n",
       "1             11.98            156.61      2.28                 32.70   \n",
       "\n",
       "   cost_per_click_mean  \n",
       "0                 2.27  \n",
       "1                 4.31  "
      ]
     },
     "execution_count": 8,
     "metadata": {},
     "output_type": "execute_result"
    }
   ],
   "source": [
    "# Step 6: Detailed comparison of Facebook vs AdWords\n",
    "\n",
    "# Group by platform and calculate total and average metrics\n",
    "platform_summary = df_long.groupby(\"platform\").agg({\n",
    "    \"views\": [\"sum\", \"mean\"],\n",
    "    \"clicks\": [\"sum\", \"mean\"],\n",
    "    \"conversions\": [\"sum\", \"mean\"],\n",
    "    \"cost_per_ad\": \"mean\",\n",
    "    \"ctr\": \"mean\",\n",
    "    \"conversion_rate\": \"mean\",\n",
    "    \"cost_per_click\": \"mean\"\n",
    "}).round(2)\n",
    "\n",
    "# Flatten MultiIndex columns for readability\n",
    "platform_summary.columns = ['_'.join(col).strip() for col in platform_summary.columns.values]\n",
    "platform_summary.reset_index(inplace=True)\n",
    "\n",
    "platform_summary\n"
   ]
  },
  {
   "cell_type": "code",
   "execution_count": 9,
   "id": "52718f99",
   "metadata": {},
   "outputs": [
    {
     "data": {
      "image/png": "[encoded data removed]",
      "text/plain": [
       "<Figure size 1296x576 with 7 Axes>"
      ]
     },
     "metadata": {
      "needs_background": "light"
     },
     "output_type": "display_data"
    }
   ],
   "source": [
    "# Step 6b: Visual comparison of metrics between platforms\n",
    "\n",
    "metrics = [\"views_sum\", \"clicks_sum\", \"conversions_sum\", \n",
    "           \"cost_per_ad_mean\", \"ctr_mean\", \"conversion_rate_mean\", \"cost_per_click_mean\"]\n",
    "\n",
    "# Plot each metric\n",
    "fig, axes = plt.subplots(2, 4, figsize=(18, 8))\n",
    "axes = axes.flatten()\n",
    "\n",
    "for i, metric in enumerate(metrics):\n",
    "    df_plot = platform_summary[[\"platform\", metric]]\n",
    "    df_plot.set_index(\"platform\").plot(kind=\"bar\", ax=axes[i], color=[\"blue\",\"green\"], legend=False)\n",
    "    axes[i].set_title(metric.replace(\"_\", \" \").title())\n",
    "    axes[i].set_ylabel(\"Value\")\n",
    "    axes[i].tick_params(axis='x', rotation=0)\n",
    "\n",
    "# Remove empty subplot if metrics < total subplots\n",
    "if len(metrics) < len(axes):\n",
    "    for j in range(len(metrics), len(axes)):\n",
    "        fig.delaxes(axes[j])\n",
    "\n",
    "plt.suptitle(\"Platform Performance Comparison: Facebook vs AdWords\", fontsize=16)\n",
    "plt.tight_layout(rect=[0, 0, 1, 0.95])\n",
    "plt.show()\n"
   ]
  },
  {
   "cell_type": "code",
   "execution_count": 10,
   "id": "316a1954",
   "metadata": {},
   "outputs": [
    {
     "name": "stdout",
     "output_type": "stream",
     "text": [
      "T-test for Conversion Rates:\n",
      "T-statistic: 32.620\n",
      "P-value: 0.000\n",
      "Result: Statistically significant difference in conversion rates between Facebook and AdWords.\n"
     ]
    }
   ],
   "source": [
    "# Step 7: Statistical comparison (t-test) between platforms\n",
    "\n",
    "# Extract conversion rates for each platform\n",
    "facebook_conv = df_long[df_long[\"platform\"] == \"Facebook\"][\"conversion_rate\"]\n",
    "adwords_conv = df_long[df_long[\"platform\"] == \"AdWords\"][\"conversion_rate\"]\n",
    "\n",
    "# Perform independent two-sample t-test\n",
    "t_stat, p_value = ttest_ind(facebook_conv, adwords_conv, equal_var=False)\n",
    "\n",
    "print(\"T-test for Conversion Rates:\")\n",
    "print(f\"T-statistic: {t_stat:.3f}\")\n",
    "print(f\"P-value: {p_value:.3f}\")\n",
    "\n",
    "# Interpretation\n",
    "if p_value < 0.05:\n",
    "    print(\"Result: Statistically significant difference in conversion rates between Facebook and AdWords.\")\n",
    "else:\n",
    "    print(\"Result: No statistically significant difference in conversion rates between platforms.\")\n"
   ]
  },
  {
   "cell_type": "code",
   "execution_count": 11,
   "id": "90b6edde",
   "metadata": {},
   "outputs": [
    {
     "data": {
      "image/png": "[encoded data removed]",
      "text/plain": [
       "<Figure size 504x288 with 1 Axes>"
      ]
     },
     "metadata": {
      "needs_background": "light"
     },
     "output_type": "display_data"
    },
    {
     "data": {
      "image/png": "[encoded data removed]",
      "text/plain": [
       "<Figure size 576x360 with 1 Axes>"
      ]
     },
     "metadata": {
      "needs_background": "light"
     },
     "output_type": "display_data"
    },
    {
     "data": {
      "image/png": "[encoded data removed]",
      "text/plain": [
       "<Figure size 576x360 with 1 Axes>"
      ]
     },
     "metadata": {
      "needs_background": "light"
     },
     "output_type": "display_data"
    }
   ],
   "source": [
    "# Step 8: Daily trends and distribution comparison\n",
    "\n",
    "# 1. Daily conversion rate trends\n",
    "df_long.groupby([\"date\", \"platform\"])[\"conversion_rate\"].mean().unstack().plot(\n",
    "    kind=\"line\", marker=\"o\"\n",
    ")\n",
    "plt.title(\"Daily Conversion Rate Trends: Facebook vs AdWords\")\n",
    "plt.ylabel(\"Conversion Rate (%)\")\n",
    "plt.xlabel(\"Date\")\n",
    "plt.xticks(rotation=45)\n",
    "plt.grid(True)\n",
    "plt.show()\n",
    "\n",
    "# 2. Boxplot for distribution of conversion rates\n",
    "import seaborn as sns\n",
    "\n",
    "plt.figure(figsize=(8,5))\n",
    "sns.boxplot(x=\"platform\", y=\"conversion_rate\", data=df_long, palette=[\"blue\", \"green\"])\n",
    "plt.title(\"Conversion Rate Distribution: Facebook vs AdWords\")\n",
    "plt.ylabel(\"Conversion Rate (%)\")\n",
    "plt.show()\n",
    "\n",
    "# 3. Optional: Boxplot for CTR\n",
    "plt.figure(figsize=(8,5))\n",
    "sns.boxplot(x=\"platform\", y=\"ctr\", data=df_long, palette=[\"blue\", \"green\"])\n",
    "plt.title(\"CTR Distribution: Facebook vs AdWords\")\n",
    "plt.ylabel(\"CTR (%)\")\n",
    "plt.show()\n"
   ]
  },
  {
   "cell_type": "code",
   "execution_count": 12,
   "id": "33fe62a0",
   "metadata": {},
   "outputs": [
    {
     "name": "stdout",
     "output_type": "stream",
     "text": [
      "Overall Platform Performance Summary:\n"
     ]
    },
    {
     "data": {
      "text/html": [
       "<div>\n",
       "<style scoped>\n",
       "    .dataframe tbody tr th:only-of-type {\n",
       "        vertical-align: middle;\n",
       "    }\n",
       "\n",
       "    .dataframe tbody tr th {\n",
       "        vertical-align: top;\n",
       "    }\n",
       "\n",
       "    .dataframe thead th {\n",
       "        text-align: right;\n",
       "    }\n",
       "</style>\n",
       "<table border=\"1\" class=\"dataframe\">\n",
       "  <thead>\n",
       "    <tr style=\"text-align: right;\">\n",
       "      <th></th>\n",
       "      <th>platform</th>\n",
       "      <th>views_sum</th>\n",
       "      <th>views_mean</th>\n",
       "      <th>clicks_sum</th>\n",
       "      <th>clicks_mean</th>\n",
       "      <th>conversions_sum</th>\n",
       "      <th>conversions_mean</th>\n",
       "      <th>cost_per_ad_mean</th>\n",
       "      <th>ctr_mean</th>\n",
       "      <th>conversion_rate_mean</th>\n",
       "      <th>cost_per_click_mean</th>\n",
       "    </tr>\n",
       "  </thead>\n",
       "  <tbody>\n",
       "    <tr>\n",
       "      <th>0</th>\n",
       "      <td>AdWords</td>\n",
       "      <td>4771438</td>\n",
       "      <td>4771.44</td>\n",
       "      <td>60128</td>\n",
       "      <td>60.13</td>\n",
       "      <td>5933</td>\n",
       "      <td>5.93</td>\n",
       "      <td>124.74</td>\n",
       "      <td>1.28</td>\n",
       "      <td>10.81</td>\n",
       "      <td>2.27</td>\n",
       "    </tr>\n",
       "    <tr>\n",
       "      <th>1</th>\n",
       "      <td>Facebook</td>\n",
       "      <td>2152031</td>\n",
       "      <td>2152.03</td>\n",
       "      <td>44196</td>\n",
       "      <td>44.20</td>\n",
       "      <td>11975</td>\n",
       "      <td>11.98</td>\n",
       "      <td>156.61</td>\n",
       "      <td>2.28</td>\n",
       "      <td>32.70</td>\n",
       "      <td>4.31</td>\n",
       "    </tr>\n",
       "  </tbody>\n",
       "</table>\n",
       "</div>"
      ],
      "text/plain": [
       "   platform  views_sum  views_mean  clicks_sum  clicks_mean  conversions_sum  \\\n",
       "0   AdWords    4771438     4771.44       60128        60.13             5933   \n",
       "1  Facebook    2152031     2152.03       44196        44.20            11975   \n",
       "\n",
       "   conversions_mean  cost_per_ad_mean  ctr_mean  conversion_rate_mean  \\\n",
       "0              5.93            124.74      1.28                 10.81   \n",
       "1             11.98            156.61      2.28                 32.70   \n",
       "\n",
       "   cost_per_click_mean  \n",
       "0                 2.27  \n",
       "1                 4.31  "
      ]
     },
     "metadata": {},
     "output_type": "display_data"
    },
    {
     "name": "stdout",
     "output_type": "stream",
     "text": [
      "\n",
      "Key Observations:\n",
      "- Facebook has a higher average conversion rate than AdWords.\n",
      "- Facebook has a higher average CTR than AdWords.\n",
      "- Facebook is generally cheaper per ad, but cost per click may vary depending on campaign efficiency.\n",
      "- Daily trends and boxplots indicate consistency and variability for each platform.\n",
      "- Statistical tests show whether differences are significant or due to chance.\n",
      "\n",
      "Recommendations:\n",
      "1. Focus budget on the platform with higher conversion rate and CTR for similar target audiences.\n",
      "2. Monitor daily performance trends to identify underperforming campaigns early.\n",
      "3. Conduct further A/B tests on ad creatives, audience targeting, and ad placement to optimize ROI.\n",
      "4. Consider both cost efficiency and conversion effectiveness when allocating ad spend.\n"
     ]
    }
   ],
   "source": [
    "# Step 9: Insights & Recommendations\n",
    "\n",
    "# 1. Compare overall metrics\n",
    "print(\"Overall Platform Performance Summary:\")\n",
    "display(platform_summary)\n",
    "\n",
    "# 2. Key observations\n",
    "print(\"\\nKey Observations:\")\n",
    "if platform_summary.loc[platform_summary['platform'] == 'Facebook', 'conversion_rate_mean'].values[0] > \\\n",
    "   platform_summary.loc[platform_summary['platform'] == 'AdWords', 'conversion_rate_mean'].values[0]:\n",
    "    print(\"- Facebook has a higher average conversion rate than AdWords.\")\n",
    "else:\n",
    "    print(\"- AdWords has a higher average conversion rate than Facebook.\")\n",
    "\n",
    "if platform_summary.loc[platform_summary['platform'] == 'Facebook', 'ctr_mean'].values[0] > \\\n",
    "   platform_summary.loc[platform_summary['platform'] == 'AdWords', 'ctr_mean'].values[0]:\n",
    "    print(\"- Facebook has a higher average CTR than AdWords.\")\n",
    "else:\n",
    "    print(\"- AdWords has a higher average CTR than Facebook.\")\n",
    "\n",
    "print(\"- Facebook is generally cheaper per ad, but cost per click may vary depending on campaign efficiency.\")\n",
    "print(\"- Daily trends and boxplots indicate consistency and variability for each platform.\")\n",
    "print(\"- Statistical tests show whether differences are significant or due to chance.\")\n",
    "\n",
    "# 3. Recommendations\n",
    "print(\"\\nRecommendations:\")\n",
    "print(\"1. Focus budget on the platform with higher conversion rate and CTR for similar target audiences.\")\n",
    "print(\"2. Monitor daily performance trends to identify underperforming campaigns early.\")\n",
    "print(\"3. Conduct further A/B tests on ad creatives, audience targeting, and ad placement to optimize ROI.\")\n",
    "print(\"4. Consider both cost efficiency and conversion effectiveness when allocating ad spend.\")\n"
   ]
  },
  {
   "cell_type": "code",
   "execution_count": 13,
   "id": "46607970",
   "metadata": {},
   "outputs": [
    {
     "data": {
      "text/markdown": [
       "## A/B Testing Analysis: Facebook vs AdWords"
      ],
      "text/plain": [
       "<IPython.core.display.Markdown object>"
      ]
     },
     "metadata": {},
     "output_type": "display_data"
    },
    {
     "data": {
      "text/markdown": [
       "**Objective:** Compare performance of Facebook and AdWords campaigns to identify which platform drives better engagement, conversions, and cost efficiency."
      ],
      "text/plain": [
       "<IPython.core.display.Markdown object>"
      ]
     },
     "metadata": {},
     "output_type": "display_data"
    },
    {
     "data": {
      "text/markdown": [
       "**Dataset Shape:** 1000 rows, 17 columns"
      ],
      "text/plain": [
       "<IPython.core.display.Markdown object>"
      ]
     },
     "metadata": {},
     "output_type": "display_data"
    },
    {
     "data": {
      "text/markdown": [
       "**Overall Platform Performance:**"
      ],
      "text/plain": [
       "<IPython.core.display.Markdown object>"
      ]
     },
     "metadata": {},
     "output_type": "display_data"
    },
    {
     "data": {
      "text/html": [
       "<div>\n",
       "<style scoped>\n",
       "    .dataframe tbody tr th:only-of-type {\n",
       "        vertical-align: middle;\n",
       "    }\n",
       "\n",
       "    .dataframe tbody tr th {\n",
       "        vertical-align: top;\n",
       "    }\n",
       "\n",
       "    .dataframe thead th {\n",
       "        text-align: right;\n",
       "    }\n",
       "</style>\n",
       "<table border=\"1\" class=\"dataframe\">\n",
       "  <thead>\n",
       "    <tr style=\"text-align: right;\">\n",
       "      <th></th>\n",
       "      <th>platform</th>\n",
       "      <th>views_sum</th>\n",
       "      <th>views_mean</th>\n",
       "      <th>clicks_sum</th>\n",
       "      <th>clicks_mean</th>\n",
       "      <th>conversions_sum</th>\n",
       "      <th>conversions_mean</th>\n",
       "      <th>cost_per_ad_mean</th>\n",
       "      <th>ctr_mean</th>\n",
       "      <th>conversion_rate_mean</th>\n",
       "      <th>cost_per_click_mean</th>\n",
       "    </tr>\n",
       "  </thead>\n",
       "  <tbody>\n",
       "    <tr>\n",
       "      <th>0</th>\n",
       "      <td>AdWords</td>\n",
       "      <td>4771438</td>\n",
       "      <td>4771.44</td>\n",
       "      <td>60128</td>\n",
       "      <td>60.13</td>\n",
       "      <td>5933</td>\n",
       "      <td>5.93</td>\n",
       "      <td>124.74</td>\n",
       "      <td>1.28</td>\n",
       "      <td>10.81</td>\n",
       "      <td>2.27</td>\n",
       "    </tr>\n",
       "    <tr>\n",
       "      <th>1</th>\n",
       "      <td>Facebook</td>\n",
       "      <td>2152031</td>\n",
       "      <td>2152.03</td>\n",
       "      <td>44196</td>\n",
       "      <td>44.20</td>\n",
       "      <td>11975</td>\n",
       "      <td>11.98</td>\n",
       "      <td>156.61</td>\n",
       "      <td>2.28</td>\n",
       "      <td>32.70</td>\n",
       "      <td>4.31</td>\n",
       "    </tr>\n",
       "  </tbody>\n",
       "</table>\n",
       "</div>"
      ],
      "text/plain": [
       "   platform  views_sum  views_mean  clicks_sum  clicks_mean  conversions_sum  \\\n",
       "0   AdWords    4771438     4771.44       60128        60.13             5933   \n",
       "1  Facebook    2152031     2152.03       44196        44.20            11975   \n",
       "\n",
       "   conversions_mean  cost_per_ad_mean  ctr_mean  conversion_rate_mean  \\\n",
       "0              5.93            124.74      1.28                 10.81   \n",
       "1             11.98            156.61      2.28                 32.70   \n",
       "\n",
       "   cost_per_click_mean  \n",
       "0                 2.27  \n",
       "1                 4.31  "
      ]
     },
     "metadata": {},
     "output_type": "display_data"
    },
    {
     "data": {
      "text/markdown": [
       "**Key Observations:**"
      ],
      "text/plain": [
       "<IPython.core.display.Markdown object>"
      ]
     },
     "metadata": {},
     "output_type": "display_data"
    },
    {
     "data": {
      "text/markdown": [
       "- Facebook average conversion rate: 32.7%"
      ],
      "text/plain": [
       "<IPython.core.display.Markdown object>"
      ]
     },
     "metadata": {},
     "output_type": "display_data"
    },
    {
     "data": {
      "text/markdown": [
       "- AdWords average conversion rate: 10.81%"
      ],
      "text/plain": [
       "<IPython.core.display.Markdown object>"
      ]
     },
     "metadata": {},
     "output_type": "display_data"
    },
    {
     "data": {
      "text/markdown": [
       "- Facebook average CTR: 2.28%"
      ],
      "text/plain": [
       "<IPython.core.display.Markdown object>"
      ]
     },
     "metadata": {},
     "output_type": "display_data"
    },
    {
     "data": {
      "text/markdown": [
       "- AdWords average CTR: 1.28%"
      ],
      "text/plain": [
       "<IPython.core.display.Markdown object>"
      ]
     },
     "metadata": {},
     "output_type": "display_data"
    },
    {
     "data": {
      "text/markdown": [
       "- Statistical t-test shows whether observed differences are significant."
      ],
      "text/plain": [
       "<IPython.core.display.Markdown object>"
      ]
     },
     "metadata": {},
     "output_type": "display_data"
    },
    {
     "data": {
      "text/markdown": [
       "- Daily trends indicate campaign performance consistency over time."
      ],
      "text/plain": [
       "<IPython.core.display.Markdown object>"
      ]
     },
     "metadata": {},
     "output_type": "display_data"
    },
    {
     "data": {
      "text/markdown": [
       "**Recommendations:**"
      ],
      "text/plain": [
       "<IPython.core.display.Markdown object>"
      ]
     },
     "metadata": {},
     "output_type": "display_data"
    },
    {
     "data": {
      "text/markdown": [
       "1. Allocate more budget to the platform with higher conversion rate and CTR for similar target audiences."
      ],
      "text/plain": [
       "<IPython.core.display.Markdown object>"
      ]
     },
     "metadata": {},
     "output_type": "display_data"
    },
    {
     "data": {
      "text/markdown": [
       "2. Continuously monitor daily performance to detect underperforming campaigns early."
      ],
      "text/plain": [
       "<IPython.core.display.Markdown object>"
      ]
     },
     "metadata": {},
     "output_type": "display_data"
    },
    {
     "data": {
      "text/markdown": [
       "3. Run further A/B tests on ad creatives, audience targeting, and ad placements to optimize ROI."
      ],
      "text/plain": [
       "<IPython.core.display.Markdown object>"
      ]
     },
     "metadata": {},
     "output_type": "display_data"
    },
    {
     "data": {
      "text/markdown": [
       "4. Consider both cost efficiency and conversion effectiveness when planning ad spend."
      ],
      "text/plain": [
       "<IPython.core.display.Markdown object>"
      ]
     },
     "metadata": {},
     "output_type": "display_data"
    },
    {
     "data": {
      "text/markdown": [
       "**Visual Insights:**"
      ],
      "text/plain": [
       "<IPython.core.display.Markdown object>"
      ]
     },
     "metadata": {},
     "output_type": "display_data"
    },
    {
     "data": {
      "text/markdown": [
       "- Conversion rate trends over time (line plot)"
      ],
      "text/plain": [
       "<IPython.core.display.Markdown object>"
      ]
     },
     "metadata": {},
     "output_type": "display_data"
    },
    {
     "data": {
      "text/markdown": [
       "- Conversion rate and CTR distributions (boxplots)"
      ],
      "text/plain": [
       "<IPython.core.display.Markdown object>"
      ]
     },
     "metadata": {},
     "output_type": "display_data"
    },
    {
     "data": {
      "text/markdown": [
       "- Side-by-side comparison of total and average metrics (bar charts)"
      ],
      "text/plain": [
       "<IPython.core.display.Markdown object>"
      ]
     },
     "metadata": {},
     "output_type": "display_data"
    },
    {
     "data": {
      "text/markdown": [
       "**End of Report**"
      ],
      "text/plain": [
       "<IPython.core.display.Markdown object>"
      ]
     },
     "metadata": {},
     "output_type": "display_data"
    }
   ],
   "source": [
    "# Step 10: Final Report Summary\n",
    "\n",
    "from IPython.display import display, Markdown\n",
    "\n",
    "# 1. Title\n",
    "display(Markdown(\"## A/B Testing Analysis: Facebook vs AdWords\"))\n",
    "\n",
    "# 2. Overview\n",
    "display(Markdown(\"**Objective:** Compare performance of Facebook and AdWords campaigns to identify which platform drives better engagement, conversions, and cost efficiency.\"))\n",
    "\n",
    "# 3. Dataset Info\n",
    "display(Markdown(f\"**Dataset Shape:** {df.shape[0]} rows, {df.shape[1]} columns\"))\n",
    "\n",
    "# 4. Overall Performance Table\n",
    "display(Markdown(\"**Overall Platform Performance:**\"))\n",
    "display(platform_summary)\n",
    "\n",
    "# 5. Key Observations\n",
    "display(Markdown(\"**Key Observations:**\"))\n",
    "observations = [\n",
    "    f\"- Facebook average conversion rate: {platform_summary.loc[platform_summary['platform']=='Facebook','conversion_rate_mean'].values[0]}%\",\n",
    "    f\"- AdWords average conversion rate: {platform_summary.loc[platform_summary['platform']=='AdWords','conversion_rate_mean'].values[0]}%\",\n",
    "    f\"- Facebook average CTR: {platform_summary.loc[platform_summary['platform']=='Facebook','ctr_mean'].values[0]}%\",\n",
    "    f\"- AdWords average CTR: {platform_summary.loc[platform_summary['platform']=='AdWords','ctr_mean'].values[0]}%\",\n",
    "    \"- Statistical t-test shows whether observed differences are significant.\",\n",
    "    \"- Daily trends indicate campaign performance consistency over time.\"\n",
    "]\n",
    "for obs in observations:\n",
    "    display(Markdown(obs))\n",
    "\n",
    "# 6. Recommendations\n",
    "display(Markdown(\"**Recommendations:**\"))\n",
    "recommendations = [\n",
    "    \"1. Allocate more budget to the platform with higher conversion rate and CTR for similar target audiences.\",\n",
    "    \"2. Continuously monitor daily performance to detect underperforming campaigns early.\",\n",
    "    \"3. Run further A/B tests on ad creatives, audience targeting, and ad placements to optimize ROI.\",\n",
    "    \"4. Consider both cost efficiency and conversion effectiveness when planning ad spend.\"\n",
    "]\n",
    "for rec in recommendations:\n",
    "    display(Markdown(rec))\n",
    "\n",
    "# 7. Visualizations\n",
    "display(Markdown(\"**Visual Insights:**\"))\n",
    "display(Markdown(\"- Conversion rate trends over time (line plot)\"))\n",
    "display(Markdown(\"- Conversion rate and CTR distributions (boxplots)\"))\n",
    "display(Markdown(\"- Side-by-side comparison of total and average metrics (bar charts)\"))\n",
    "\n",
    "display(Markdown(\"**End of Report**\"))\n"
   ]
  },
  {
   "cell_type": "code",
   "execution_count": null,
   "id": "14263eeb",
   "metadata": {},
   "outputs": [],
   "source": []
  }
 ],
 "metadata": {
  "kernelspec": {
   "display_name": "Python 3 (ipykernel)",
   "language": "python",
   "name": "python3"
  },
  "language_info": {
   "codemirror_mode": {
    "name": "ipython",
    "version": 3
   },
   "file_extension": ".py",
   "mimetype": "text/x-python",
   "name": "python",
   "nbconvert_exporter": "python",
   "pygments_lexer": "ipython3",
   "version": "3.9.12"
  }
 },
 "nbformat": 4,
 "nbformat_minor": 5
}
